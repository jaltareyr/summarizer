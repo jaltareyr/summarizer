{
 "cells": [
  {
   "cell_type": "code",
   "execution_count": null,
   "metadata": {},
   "outputs": [],
   "source": [
    "import pandas as pd\n",
    "\n",
    "X_test = pd.read_csv(\"/content/drive/MyDrive/summarizer/assets/data/X_test.csv\")\n",
    "y_test = pd.read_csv(\"/content/drive/MyDrive/summarizer/assets/data/y_test.csv\")\n",
    "\n",
    "test_data = pd.DataFrame({'review': X_test['X'], 'summary': y_test['y']})"
   ]
  },
  {
   "cell_type": "code",
   "execution_count": null,
   "metadata": {
    "id": "ijW-EyAnbzUz"
   },
   "outputs": [],
   "source": [
    "from transformers import T5ForConditionalGeneration, AutoTokenizer\n",
    "from peft import PeftModel\n",
    "\n",
    "# Load the model and tokenizer\n",
    "base_model = \"google-t5/t5-base\"\n",
    "peft_model = \"jaltareyr/t5-base-summarization\"\n",
    "base_model = T5ForConditionalGeneration.from_pretrained(base_model)\n",
    "tokenizer = AutoTokenizer.from_pretrained(base_model)\n",
    "\n",
    "model = PeftModel.from_pretrained(base_model, peft_model)\n",
    "\n",
    "# Summarization function\n",
    "def summarize(text):\n",
    "    inputs = tokenizer(text, return_tensors=\"pt\", max_length=512, truncation=True)\n",
    "    summary_ids = model.generate(\n",
    "        input_ids=inputs['input_ids'],\n",
    "        max_length=128,\n",
    "        min_length=16,\n",
    "        length_penalty=2.0,\n",
    "        repetition_penalty=2.0,\n",
    "        num_beams=2,\n",
    "        early_stopping=True\n",
    "    )\n",
    "    return tokenizer.decode(summary_ids[0], skip_special_tokens=True)"
   ]
  },
  {
   "cell_type": "code",
   "execution_count": null,
   "metadata": {},
   "outputs": [],
   "source": [
    "import torch\n",
    "from transformers import AutoTokenizer, AutoModelForSeq2SeqLM\n",
    "\n",
    "# Check if GPU is available and move the model to GPU\n",
    "device = torch.device(\"cuda\" if torch.cuda.is_available() else \"cpu\")\n",
    "model.to(device)\n",
    "\n",
    "# Summarization function\n",
    "def summarize(text):\n",
    "    # Tokenize input and move to the same device as the model\n",
    "    inputs = tokenizer(text, return_tensors=\"pt\", max_length=512, truncation=True).to(device)\n",
    "    summary_ids = model.generate(\n",
    "        input_ids=inputs['input_ids'],\n",
    "        max_length=128,\n",
    "        min_length=24,\n",
    "        length_penalty=2.0,\n",
    "        repetition_penalty=2.0,\n",
    "        num_beams=2,\n",
    "        early_stopping=True\n",
    "    )\n",
    "    return tokenizer.decode(summary_ids[0], skip_special_tokens=True)\n",
    "\n",
    "# Example usage\n",
    "text = test_dataset[20]['review']\n",
    "summary = summarize(text)\n",
    "print(summary)\n"
   ]
  }
 ],
 "metadata": {
  "colab": {
   "authorship_tag": "ABX9TyNaRndOQWVj26DHCm0uYGuL",
   "mount_file_id": "1KvtyyrZfgbl23PkbgAw77qQP99V-teI4",
   "provenance": []
  },
  "kernelspec": {
   "display_name": "venv",
   "language": "python",
   "name": "python3"
  },
  "language_info": {
   "codemirror_mode": {
    "name": "ipython",
    "version": 3
   },
   "file_extension": ".py",
   "mimetype": "text/x-python",
   "name": "python",
   "nbconvert_exporter": "python",
   "pygments_lexer": "ipython3",
   "version": "3.12.7"
  }
 },
 "nbformat": 4,
 "nbformat_minor": 0
}
